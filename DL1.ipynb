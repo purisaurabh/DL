{
 "cells": [
  {
   "cell_type": "markdown",
   "id": "d02bbfe3",
   "metadata": {},
   "source": [
    "# Tensorflow Test Program"
   ]
  },
  {
   "cell_type": "markdown",
   "id": "c20f2d14",
   "metadata": {},
   "source": [
    "Installation of Tensorflow"
   ]
  },
  {
   "cell_type": "code",
   "execution_count": 1,
   "id": "905055ca",
   "metadata": {},
   "outputs": [
    {
     "ename": "ModuleNotFoundError",
     "evalue": "No module named 'tensorflow.python'",
     "output_type": "error",
     "traceback": [
      "\u001b[0;31m---------------------------------------------------------------------------\u001b[0m",
      "\u001b[0;31mModuleNotFoundError\u001b[0m                       Traceback (most recent call last)",
      "Input \u001b[0;32mIn [1]\u001b[0m, in \u001b[0;36m<cell line: 1>\u001b[0;34m()\u001b[0m\n\u001b[0;32m----> 1\u001b[0m \u001b[38;5;28;01mimport\u001b[39;00m \u001b[38;5;21;01mtensorflow\u001b[39;00m \u001b[38;5;28;01mas\u001b[39;00m \u001b[38;5;21;01mtf\u001b[39;00m\n\u001b[1;32m      2\u001b[0m \u001b[38;5;28;01mimport\u001b[39;00m \u001b[38;5;21;01mtheano\u001b[39;00m \u001b[38;5;28;01mas\u001b[39;00m \u001b[38;5;21;01mT\u001b[39;00m\n",
      "File \u001b[0;32m~/.local/lib/python3.10/site-packages/tensorflow/__init__.py:38\u001b[0m, in \u001b[0;36m<module>\u001b[0;34m\u001b[0m\n\u001b[1;32m     35\u001b[0m \u001b[38;5;28;01mimport\u001b[39;00m \u001b[38;5;21;01msys\u001b[39;00m \u001b[38;5;28;01mas\u001b[39;00m \u001b[38;5;21;01m_sys\u001b[39;00m\n\u001b[1;32m     36\u001b[0m \u001b[38;5;28;01mimport\u001b[39;00m \u001b[38;5;21;01mtyping\u001b[39;00m \u001b[38;5;28;01mas\u001b[39;00m \u001b[38;5;21;01m_typing\u001b[39;00m\n\u001b[0;32m---> 38\u001b[0m \u001b[38;5;28;01mfrom\u001b[39;00m \u001b[38;5;21;01mtensorflow\u001b[39;00m\u001b[38;5;21;01m.\u001b[39;00m\u001b[38;5;21;01mpython\u001b[39;00m\u001b[38;5;21;01m.\u001b[39;00m\u001b[38;5;21;01mtools\u001b[39;00m \u001b[38;5;28;01mimport\u001b[39;00m module_util \u001b[38;5;28;01mas\u001b[39;00m _module_util\n\u001b[1;32m     39\u001b[0m \u001b[38;5;28;01mfrom\u001b[39;00m \u001b[38;5;21;01mtensorflow\u001b[39;00m\u001b[38;5;21;01m.\u001b[39;00m\u001b[38;5;21;01mpython\u001b[39;00m\u001b[38;5;21;01m.\u001b[39;00m\u001b[38;5;21;01mutil\u001b[39;00m\u001b[38;5;21;01m.\u001b[39;00m\u001b[38;5;21;01mlazy_loader\u001b[39;00m \u001b[38;5;28;01mimport\u001b[39;00m LazyLoader \u001b[38;5;28;01mas\u001b[39;00m _LazyLoader\n\u001b[1;32m     41\u001b[0m \u001b[38;5;66;03m# Make sure code inside the TensorFlow codebase can use tf2.enabled() at import.\u001b[39;00m\n",
      "\u001b[0;31mModuleNotFoundError\u001b[0m: No module named 'tensorflow.python'"
     ]
    }
   ],
   "source": [
    "import tensorflow as tf\n",
    "import theano as T"
   ]
  },
  {
   "cell_type": "markdown",
   "id": "fb5610a1",
   "metadata": {},
   "source": [
    "Print out Tensorflow version"
   ]
  },
  {
   "cell_type": "code",
   "execution_count": null,
   "id": "df305a3b",
   "metadata": {},
   "outputs": [],
   "source": [
    "print(tf.__version__)"
   ]
  },
  {
   "cell_type": "code",
   "execution_count": null,
   "id": "ba31abc7",
   "metadata": {},
   "outputs": [],
   "source": [
    "print(tf.reduce_sum(tf.random.normal([1000,1000])))"
   ]
  },
  {
   "cell_type": "markdown",
   "id": "fe95976a",
   "metadata": {},
   "source": [
    "# Keras Test Program "
   ]
  },
  {
   "cell_type": "code",
   "execution_count": null,
   "id": "4c67c3e7",
   "metadata": {},
   "outputs": [],
   "source": []
  },
  {
   "cell_type": "code",
   "execution_count": null,
   "id": "1d9b0fe7",
   "metadata": {},
   "outputs": [],
   "source": [
    "from keras import datasets"
   ]
  },
  {
   "cell_type": "markdown",
   "id": "0c44ae8c",
   "metadata": {},
   "source": [
    "Loading MNIST Data"
   ]
  },
  {
   "cell_type": "code",
   "execution_count": null,
   "id": "13a195d9",
   "metadata": {},
   "outputs": [],
   "source": [
    "(train_images,train_labels),(test_images,test_labels)=datasets.mnist.load_data()"
   ]
  },
  {
   "cell_type": "markdown",
   "id": "bbc62ecc",
   "metadata": {},
   "source": [
    "Check the dataset loaded"
   ]
  },
  {
   "cell_type": "code",
   "execution_count": null,
   "id": "ac9513b2",
   "metadata": {},
   "outputs": [],
   "source": [
    "train_images.shape,test_images.shape"
   ]
  },
  {
   "cell_type": "markdown",
   "id": "09249e0a",
   "metadata": {},
   "source": [
    "# Theano Test Program"
   ]
  },
  {
   "cell_type": "code",
   "execution_count": null,
   "id": "21c80d95",
   "metadata": {},
   "outputs": [],
   "source": [
    "import numpy"
   ]
  },
  {
   "cell_type": "code",
   "execution_count": null,
   "id": "946ceeba",
   "metadata": {},
   "outputs": [],
   "source": []
  },
  {
   "cell_type": "code",
   "execution_count": null,
   "id": "eaa1a659",
   "metadata": {},
   "outputs": [],
   "source": [
    "from theano import function"
   ]
  },
  {
   "cell_type": "markdown",
   "id": "c9333d30",
   "metadata": {},
   "source": [
    "**Addition of two scalars**"
   ]
  },
  {
   "cell_type": "markdown",
   "id": "8239f5a6",
   "metadata": {},
   "source": [
    "Declaring Two Variables"
   ]
  },
  {
   "cell_type": "code",
   "execution_count": null,
   "id": "7948929a",
   "metadata": {},
   "outputs": [],
   "source": [
    "x = T.dscalar('x')"
   ]
  },
  {
   "cell_type": "code",
   "execution_count": null,
   "id": "7446f8e9",
   "metadata": {},
   "outputs": [],
   "source": [
    "y = T.dscalar('y')"
   ]
  },
  {
   "cell_type": "markdown",
   "id": "ade601d5",
   "metadata": {},
   "source": [
    "summing up the two numbers"
   ]
  },
  {
   "cell_type": "code",
   "execution_count": null,
   "id": "1a2fe4ba",
   "metadata": {},
   "outputs": [],
   "source": [
    "z = x + y"
   ]
  },
  {
   "cell_type": "code",
   "execution_count": null,
   "id": "e9d18cf5",
   "metadata": {},
   "outputs": [],
   "source": [
    "f = function([x,y],z)"
   ]
  },
  {
   "cell_type": "code",
   "execution_count": null,
   "id": "3765e3da",
   "metadata": {},
   "outputs": [],
   "source": [
    "f(5,7)"
   ]
  },
  {
   "cell_type": "markdown",
   "id": "1bf63ad2",
   "metadata": {},
   "source": [
    "# PyTorch Test Program"
   ]
  },
  {
   "cell_type": "code",
   "execution_count": null,
   "id": "d5e9078a",
   "metadata": {},
   "outputs": [],
   "source": []
  },
  {
   "cell_type": "markdown",
   "id": "b17befc1",
   "metadata": {},
   "source": [
    "Importing torch"
   ]
  },
  {
   "cell_type": "code",
   "execution_count": null,
   "id": "24841c86",
   "metadata": {},
   "outputs": [],
   "source": [
    "import torch"
   ]
  },
  {
   "cell_type": "code",
   "execution_count": null,
   "id": "8e729110",
   "metadata": {},
   "outputs": [],
   "source": [
    "import torch.nn as nn"
   ]
  },
  {
   "cell_type": "markdown",
   "id": "ebece799",
   "metadata": {},
   "source": [
    "Print out  PyTorch version"
   ]
  },
  {
   "cell_type": "code",
   "execution_count": null,
   "id": "2e56ac9c",
   "metadata": {},
   "outputs": [],
   "source": [
    "print(torch.__version__)"
   ]
  },
  {
   "cell_type": "code",
   "execution_count": null,
   "id": "276cf051",
   "metadata": {},
   "outputs": [],
   "source": []
  }
 ],
 "metadata": {
  "kernelspec": {
   "display_name": "Python 3 (ipykernel)",
   "language": "python",
   "name": "python3"
  },
  "language_info": {
   "codemirror_mode": {
    "name": "ipython",
    "version": 3
   },
   "file_extension": ".py",
   "mimetype": "text/x-python",
   "name": "python",
   "nbconvert_exporter": "python",
   "pygments_lexer": "ipython3",
   "version": "3.10.12"
  }
 },
 "nbformat": 4,
 "nbformat_minor": 5
}
